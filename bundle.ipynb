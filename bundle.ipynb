{
 "cells": [
  {
   "cell_type": "markdown",
   "metadata": {},
   "source": [
    "1. 特征匹配以及匹配对删除阶段\n",
    "    1. 两幅图像匹配特征点数目少于16点，那么删除匹配对\n",
    "    - 两幅图像prune一些匹配的特征点，如果存在一对多的情况，删除匹配的特征点（留下一个点）\n",
    "    - LM法求解基础矩阵\n",
    "        1. 找到接近与2的F\n",
    "        - 做一次过滤？（怎么做的）\n",
    "        - 再求一次F\n",
    "    - 好像有做ransac\n",
    "2. 每两幅图像估计基础矩阵F\n",
    "    1. 估计一次残差（pre)\n",
    "    - 然后按照运动模式，来进行裁剪特征点(align_horn)\n",
    "        1. \n",
    "    - 如果删除后剩余的特征点少于20，删除该匹配对\n",
    "3. track(开始物方点)\n",
    "    1. 找到图像的邻域（应该是匹配对，但是在做prune时，有的匹配对没有考虑，但是数目要多余）\n",
    "    - 对于每一张图片，图片里面所有的特征点进行track\n",
    "      1. 如果匹配  \n",
    "4. BA\n",
    "    1. 找到两幅匹配点多，并且基线足够长的匹配对\n",
    "    2. 内点比率少的匹配对\n",
    "    - 然后找到看到比较多的点的图像\n",
    "    - 根据物方点的个数和对应的投影点进行直接的线性变化，获得新相机的位姿\n",
    "    - 再做BA\n",
    "5. 最后结果\n",
    "    - 多少个相机，点的个数\n",
    "    - 每个相机的参数（内外参数）\n",
    "    - 重建稀疏点云的信息，以及在哪些相机中能看到"
   ]
  },
  {
   "cell_type": "markdown",
   "metadata": {},
   "source": [
    "1. 运动模式\n",
    "    - 刚体\n",
    "    - 单应性"
   ]
  }
 ],
 "metadata": {
  "kernelspec": {
   "display_name": "Python 3",
   "language": "python",
   "name": "python3"
  },
  "language_info": {
   "codemirror_mode": {
    "name": "ipython",
    "version": 3
   },
   "file_extension": ".py",
   "mimetype": "text/x-python",
   "name": "python",
   "nbconvert_exporter": "python",
   "pygments_lexer": "ipython3",
   "version": "3.6.3"
  },
  "toc": {
   "nav_menu": {},
   "number_sections": true,
   "sideBar": true,
   "skip_h1_title": false,
   "title_cell": "Table of Contents",
   "title_sidebar": "Contents",
   "toc_cell": false,
   "toc_position": {},
   "toc_section_display": true,
   "toc_window_display": false
  }
 },
 "nbformat": 4,
 "nbformat_minor": 2
}
